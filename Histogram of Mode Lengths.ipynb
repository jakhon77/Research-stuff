{
 "cells": [
  {
   "cell_type": "code",
   "execution_count": 12,
   "metadata": {},
   "outputs": [],
   "source": [
    "import pandas as pd\n",
    "import matplotlib.pyplot as plt\n",
    "import numpy as np"
   ]
  },
  {
   "cell_type": "markdown",
   "metadata": {},
   "source": [
    "### Latitude/Longitude Distance Calculator online tool\n",
    "http://www.meridianoutpost.com/resources/etools/calculators/calculator-latitude-longitude-distance.php?"
   ]
  },
  {
   "cell_type": "markdown",
   "metadata": {},
   "source": [
    "### This function calculates latitude/longitude distance "
   ]
  },
  {
   "cell_type": "code",
   "execution_count": 49,
   "metadata": {},
   "outputs": [
    {
     "name": "stdout",
     "output_type": "stream",
     "text": [
      "1.2445894158220852 miles\n"
     ]
    }
   ],
   "source": [
    "# Python 3 program to calculate Distance Between Two Points on Earth \n",
    "from math import radians, cos, sin, asin, sqrt \n",
    "def distance(lat1, lat2, lon1, lon2): \n",
    "      \n",
    "    # The math module contains a function named \n",
    "    # radians which converts from degrees to radians. \n",
    "    lon1 = radians(lon1) \n",
    "    lon2 = radians(lon2) \n",
    "    lat1 = radians(lat1) \n",
    "    lat2 = radians(lat2) \n",
    "       \n",
    "    # Haversine formula  \n",
    "    dlon = lon2 - lon1  \n",
    "    dlat = lat2 - lat1 \n",
    "    a = sin(dlat / 2)**2 + cos(lat1) * cos(lat2) * sin(dlon / 2)**2\n",
    "  \n",
    "    c = 2 * asin(sqrt(a))  \n",
    "     \n",
    "    # Radius of earth in kilometers. Use 3956 for miles. Use 6371 for kilometers \n",
    "    r = 3956\n",
    "       \n",
    "    # calculate the result \n",
    "    return(c * r) \n",
    "      \n",
    "      \n",
    "# driver code  \n",
    "lat1 = 53.32055555555556\n",
    "lat2 = 53.31861111111111\n",
    "lon1 = -1.7297222222222221\n",
    "lon2 =  -1.6997222222222223\n",
    "print(distance(lat1, lat2, lon1, lon2), \"miles\") "
   ]
  },
  {
   "cell_type": "markdown",
   "metadata": {},
   "source": [
    "# Railroad Segments"
   ]
  },
  {
   "cell_type": "code",
   "execution_count": 51,
   "metadata": {},
   "outputs": [],
   "source": [
    "file1 = \"C:/Users/jkhat/OneDrive/MarTREC_python/Rail_consolidated_arcs_file_2.csv\"\n",
    "df_rail = pd.read_csv(file1)"
   ]
  },
  {
   "cell_type": "code",
   "execution_count": 52,
   "metadata": {},
   "outputs": [
    {
     "name": "stdout",
     "output_type": "stream",
     "text": [
      "(1269, 10)\n"
     ]
    },
    {
     "data": {
      "text/html": [
       "<div>\n",
       "<style scoped>\n",
       "    .dataframe tbody tr th:only-of-type {\n",
       "        vertical-align: middle;\n",
       "    }\n",
       "\n",
       "    .dataframe tbody tr th {\n",
       "        vertical-align: top;\n",
       "    }\n",
       "\n",
       "    .dataframe thead th {\n",
       "        text-align: right;\n",
       "    }\n",
       "</style>\n",
       "<table border=\"1\" class=\"dataframe\">\n",
       "  <thead>\n",
       "    <tr style=\"text-align: right;\">\n",
       "      <th></th>\n",
       "      <th>FID</th>\n",
       "      <th>Start_Node</th>\n",
       "      <th>End_Node</th>\n",
       "      <th>Mode</th>\n",
       "      <th>X_Start</th>\n",
       "      <th>Y_Start</th>\n",
       "      <th>X_End</th>\n",
       "      <th>Y_End</th>\n",
       "      <th>Length_mi</th>\n",
       "      <th>Traversal time</th>\n",
       "    </tr>\n",
       "  </thead>\n",
       "  <tbody>\n",
       "    <tr>\n",
       "      <th>0</th>\n",
       "      <td>591</td>\n",
       "      <td>30569</td>\n",
       "      <td>30570</td>\n",
       "      <td>Rail</td>\n",
       "      <td>-94.649024</td>\n",
       "      <td>34.034692</td>\n",
       "      <td>-94.630256</td>\n",
       "      <td>34.038541</td>\n",
       "      <td>1.114618</td>\n",
       "      <td>1.0</td>\n",
       "    </tr>\n",
       "    <tr>\n",
       "      <th>1</th>\n",
       "      <td>1083</td>\n",
       "      <td>31049</td>\n",
       "      <td>31021</td>\n",
       "      <td>Rail</td>\n",
       "      <td>-94.618961</td>\n",
       "      <td>35.082830</td>\n",
       "      <td>-94.607896</td>\n",
       "      <td>35.059841</td>\n",
       "      <td>1.707343</td>\n",
       "      <td>1.0</td>\n",
       "    </tr>\n",
       "    <tr>\n",
       "      <th>2</th>\n",
       "      <td>1336</td>\n",
       "      <td>31280</td>\n",
       "      <td>31279</td>\n",
       "      <td>Rail</td>\n",
       "      <td>-94.440744</td>\n",
       "      <td>35.397594</td>\n",
       "      <td>-94.441901</td>\n",
       "      <td>35.447053</td>\n",
       "      <td>3.459341</td>\n",
       "      <td>1.0</td>\n",
       "    </tr>\n",
       "    <tr>\n",
       "      <th>3</th>\n",
       "      <td>1298</td>\n",
       "      <td>31232</td>\n",
       "      <td>31242</td>\n",
       "      <td>Rail</td>\n",
       "      <td>-94.430066</td>\n",
       "      <td>35.376320</td>\n",
       "      <td>-94.429916</td>\n",
       "      <td>35.387689</td>\n",
       "      <td>0.790110</td>\n",
       "      <td>1.0</td>\n",
       "    </tr>\n",
       "    <tr>\n",
       "      <th>4</th>\n",
       "      <td>1293</td>\n",
       "      <td>31232</td>\n",
       "      <td>31237</td>\n",
       "      <td>Rail</td>\n",
       "      <td>-94.430066</td>\n",
       "      <td>35.376320</td>\n",
       "      <td>-94.426151</td>\n",
       "      <td>35.383089</td>\n",
       "      <td>0.516456</td>\n",
       "      <td>1.0</td>\n",
       "    </tr>\n",
       "  </tbody>\n",
       "</table>\n",
       "</div>"
      ],
      "text/plain": [
       "    FID  Start_Node  End_Node  Mode    X_Start    Y_Start      X_End  \\\n",
       "0   591       30569     30570  Rail -94.649024  34.034692 -94.630256   \n",
       "1  1083       31049     31021  Rail -94.618961  35.082830 -94.607896   \n",
       "2  1336       31280     31279  Rail -94.440744  35.397594 -94.441901   \n",
       "3  1298       31232     31242  Rail -94.430066  35.376320 -94.429916   \n",
       "4  1293       31232     31237  Rail -94.430066  35.376320 -94.426151   \n",
       "\n",
       "       Y_End  Length_mi  Traversal time  \n",
       "0  34.038541   1.114618             1.0  \n",
       "1  35.059841   1.707343             1.0  \n",
       "2  35.447053   3.459341             1.0  \n",
       "3  35.387689   0.790110             1.0  \n",
       "4  35.383089   0.516456             1.0  "
      ]
     },
     "execution_count": 52,
     "metadata": {},
     "output_type": "execute_result"
    }
   ],
   "source": [
    "print(df_rail.shape)\n",
    "df_rail.head()"
   ]
  },
  {
   "cell_type": "code",
   "execution_count": 53,
   "metadata": {},
   "outputs": [],
   "source": [
    "for index, row in df_rail.iterrows():\n",
    "    lat1 = row['Y_Start']\n",
    "    lat2 = row['Y_End']\n",
    "    lon1 = row['X_Start']\n",
    "    lon2 = row['X_End']\n",
    "    distance_mile = distance(lat1, lat2, lon1, lon2)\n",
    "    df_rail.at[index, 'new_Length_mi'] = distance_mile"
   ]
  },
  {
   "cell_type": "code",
   "execution_count": 54,
   "metadata": {},
   "outputs": [
    {
     "data": {
      "text/html": [
       "<div>\n",
       "<style scoped>\n",
       "    .dataframe tbody tr th:only-of-type {\n",
       "        vertical-align: middle;\n",
       "    }\n",
       "\n",
       "    .dataframe tbody tr th {\n",
       "        vertical-align: top;\n",
       "    }\n",
       "\n",
       "    .dataframe thead th {\n",
       "        text-align: right;\n",
       "    }\n",
       "</style>\n",
       "<table border=\"1\" class=\"dataframe\">\n",
       "  <thead>\n",
       "    <tr style=\"text-align: right;\">\n",
       "      <th></th>\n",
       "      <th>FID</th>\n",
       "      <th>Start_Node</th>\n",
       "      <th>End_Node</th>\n",
       "      <th>Mode</th>\n",
       "      <th>X_Start</th>\n",
       "      <th>Y_Start</th>\n",
       "      <th>X_End</th>\n",
       "      <th>Y_End</th>\n",
       "      <th>Length_mi</th>\n",
       "      <th>Traversal time</th>\n",
       "      <th>new_Length_mi</th>\n",
       "    </tr>\n",
       "  </thead>\n",
       "  <tbody>\n",
       "    <tr>\n",
       "      <th>791</th>\n",
       "      <td>1994</td>\n",
       "      <td>31458</td>\n",
       "      <td>70350</td>\n",
       "      <td>Rail</td>\n",
       "      <td>-94.167477</td>\n",
       "      <td>36.125315</td>\n",
       "      <td>-94.534591</td>\n",
       "      <td>36.172666</td>\n",
       "      <td>0.370155</td>\n",
       "      <td>1.0</td>\n",
       "      <td>20.72718</td>\n",
       "    </tr>\n",
       "  </tbody>\n",
       "</table>\n",
       "</div>"
      ],
      "text/plain": [
       "      FID  Start_Node  End_Node  Mode    X_Start    Y_Start      X_End  \\\n",
       "791  1994       31458     70350  Rail -94.167477  36.125315 -94.534591   \n",
       "\n",
       "         Y_End  Length_mi  Traversal time  new_Length_mi  \n",
       "791  36.172666   0.370155             1.0       20.72718  "
      ]
     },
     "execution_count": 54,
     "metadata": {},
     "output_type": "execute_result"
    }
   ],
   "source": [
    "df_rail[df_rail['FID'] == '1994']"
   ]
  },
  {
   "cell_type": "code",
   "execution_count": 55,
   "metadata": {},
   "outputs": [
    {
     "data": {
      "text/html": [
       "<div>\n",
       "<style scoped>\n",
       "    .dataframe tbody tr th:only-of-type {\n",
       "        vertical-align: middle;\n",
       "    }\n",
       "\n",
       "    .dataframe tbody tr th {\n",
       "        vertical-align: top;\n",
       "    }\n",
       "\n",
       "    .dataframe thead th {\n",
       "        text-align: right;\n",
       "    }\n",
       "</style>\n",
       "<table border=\"1\" class=\"dataframe\">\n",
       "  <thead>\n",
       "    <tr style=\"text-align: right;\">\n",
       "      <th></th>\n",
       "      <th>FID</th>\n",
       "      <th>Start_Node</th>\n",
       "      <th>End_Node</th>\n",
       "      <th>Mode</th>\n",
       "      <th>X_Start</th>\n",
       "      <th>Y_Start</th>\n",
       "      <th>X_End</th>\n",
       "      <th>Y_End</th>\n",
       "      <th>Length_mi</th>\n",
       "      <th>Traversal time</th>\n",
       "      <th>new_Length_mi</th>\n",
       "    </tr>\n",
       "  </thead>\n",
       "  <tbody>\n",
       "    <tr>\n",
       "      <th>0</th>\n",
       "      <td>591</td>\n",
       "      <td>30569</td>\n",
       "      <td>30570</td>\n",
       "      <td>Rail</td>\n",
       "      <td>-94.649024</td>\n",
       "      <td>34.034692</td>\n",
       "      <td>-94.630256</td>\n",
       "      <td>34.038541</td>\n",
       "      <td>1.114618</td>\n",
       "      <td>1.0</td>\n",
       "      <td>1.106216</td>\n",
       "    </tr>\n",
       "    <tr>\n",
       "      <th>1</th>\n",
       "      <td>1083</td>\n",
       "      <td>31049</td>\n",
       "      <td>31021</td>\n",
       "      <td>Rail</td>\n",
       "      <td>-94.618961</td>\n",
       "      <td>35.082830</td>\n",
       "      <td>-94.607896</td>\n",
       "      <td>35.059841</td>\n",
       "      <td>1.707343</td>\n",
       "      <td>1.0</td>\n",
       "      <td>1.705997</td>\n",
       "    </tr>\n",
       "    <tr>\n",
       "      <th>2</th>\n",
       "      <td>1336</td>\n",
       "      <td>31280</td>\n",
       "      <td>31279</td>\n",
       "      <td>Rail</td>\n",
       "      <td>-94.440744</td>\n",
       "      <td>35.397594</td>\n",
       "      <td>-94.441901</td>\n",
       "      <td>35.447053</td>\n",
       "      <td>3.459341</td>\n",
       "      <td>1.0</td>\n",
       "      <td>3.415541</td>\n",
       "    </tr>\n",
       "    <tr>\n",
       "      <th>3</th>\n",
       "      <td>1298</td>\n",
       "      <td>31232</td>\n",
       "      <td>31242</td>\n",
       "      <td>Rail</td>\n",
       "      <td>-94.430066</td>\n",
       "      <td>35.376320</td>\n",
       "      <td>-94.429916</td>\n",
       "      <td>35.387689</td>\n",
       "      <td>0.790110</td>\n",
       "      <td>1.0</td>\n",
       "      <td>0.785069</td>\n",
       "    </tr>\n",
       "    <tr>\n",
       "      <th>4</th>\n",
       "      <td>1293</td>\n",
       "      <td>31232</td>\n",
       "      <td>31237</td>\n",
       "      <td>Rail</td>\n",
       "      <td>-94.430066</td>\n",
       "      <td>35.376320</td>\n",
       "      <td>-94.426151</td>\n",
       "      <td>35.383089</td>\n",
       "      <td>0.516456</td>\n",
       "      <td>1.0</td>\n",
       "      <td>0.516726</td>\n",
       "    </tr>\n",
       "    <tr>\n",
       "      <th>5</th>\n",
       "      <td>1290</td>\n",
       "      <td>31232</td>\n",
       "      <td>31234</td>\n",
       "      <td>Rail</td>\n",
       "      <td>-94.430066</td>\n",
       "      <td>35.376320</td>\n",
       "      <td>-94.422729</td>\n",
       "      <td>35.379083</td>\n",
       "      <td>0.456069</td>\n",
       "      <td>1.0</td>\n",
       "      <td>0.455000</td>\n",
       "    </tr>\n",
       "    <tr>\n",
       "      <th>6</th>\n",
       "      <td>1300</td>\n",
       "      <td>31242</td>\n",
       "      <td>31243</td>\n",
       "      <td>Rail</td>\n",
       "      <td>-94.429916</td>\n",
       "      <td>35.387689</td>\n",
       "      <td>-94.427614</td>\n",
       "      <td>35.393690</td>\n",
       "      <td>0.433688</td>\n",
       "      <td>1.0</td>\n",
       "      <td>0.434093</td>\n",
       "    </tr>\n",
       "    <tr>\n",
       "      <th>7</th>\n",
       "      <td>1299</td>\n",
       "      <td>31237</td>\n",
       "      <td>31242</td>\n",
       "      <td>Rail</td>\n",
       "      <td>-94.426151</td>\n",
       "      <td>35.383089</td>\n",
       "      <td>-94.429916</td>\n",
       "      <td>35.387689</td>\n",
       "      <td>0.381864</td>\n",
       "      <td>1.0</td>\n",
       "      <td>0.381847</td>\n",
       "    </tr>\n",
       "    <tr>\n",
       "      <th>8</th>\n",
       "      <td>474</td>\n",
       "      <td>30454</td>\n",
       "      <td>30455</td>\n",
       "      <td>Rail</td>\n",
       "      <td>-94.425432</td>\n",
       "      <td>33.727173</td>\n",
       "      <td>-94.419509</td>\n",
       "      <td>33.695115</td>\n",
       "      <td>2.620379</td>\n",
       "      <td>1.0</td>\n",
       "      <td>2.239416</td>\n",
       "    </tr>\n",
       "    <tr>\n",
       "      <th>9</th>\n",
       "      <td>475</td>\n",
       "      <td>30454</td>\n",
       "      <td>30449</td>\n",
       "      <td>Rail</td>\n",
       "      <td>-94.425432</td>\n",
       "      <td>33.727173</td>\n",
       "      <td>-94.401224</td>\n",
       "      <td>33.720816</td>\n",
       "      <td>1.484140</td>\n",
       "      <td>1.0</td>\n",
       "      <td>1.457797</td>\n",
       "    </tr>\n",
       "    <tr>\n",
       "      <th>10</th>\n",
       "      <td>880</td>\n",
       "      <td>30852</td>\n",
       "      <td>30778</td>\n",
       "      <td>Rail</td>\n",
       "      <td>-94.423091</td>\n",
       "      <td>34.704697</td>\n",
       "      <td>-94.278273</td>\n",
       "      <td>34.561011</td>\n",
       "      <td>20.291075</td>\n",
       "      <td>1.0</td>\n",
       "      <td>12.888421</td>\n",
       "    </tr>\n",
       "  </tbody>\n",
       "</table>\n",
       "</div>"
      ],
      "text/plain": [
       "     FID  Start_Node  End_Node  Mode    X_Start    Y_Start      X_End  \\\n",
       "0    591       30569     30570  Rail -94.649024  34.034692 -94.630256   \n",
       "1   1083       31049     31021  Rail -94.618961  35.082830 -94.607896   \n",
       "2   1336       31280     31279  Rail -94.440744  35.397594 -94.441901   \n",
       "3   1298       31232     31242  Rail -94.430066  35.376320 -94.429916   \n",
       "4   1293       31232     31237  Rail -94.430066  35.376320 -94.426151   \n",
       "5   1290       31232     31234  Rail -94.430066  35.376320 -94.422729   \n",
       "6   1300       31242     31243  Rail -94.429916  35.387689 -94.427614   \n",
       "7   1299       31237     31242  Rail -94.426151  35.383089 -94.429916   \n",
       "8    474       30454     30455  Rail -94.425432  33.727173 -94.419509   \n",
       "9    475       30454     30449  Rail -94.425432  33.727173 -94.401224   \n",
       "10   880       30852     30778  Rail -94.423091  34.704697 -94.278273   \n",
       "\n",
       "        Y_End  Length_mi  Traversal time  new_Length_mi  \n",
       "0   34.038541   1.114618             1.0       1.106216  \n",
       "1   35.059841   1.707343             1.0       1.705997  \n",
       "2   35.447053   3.459341             1.0       3.415541  \n",
       "3   35.387689   0.790110             1.0       0.785069  \n",
       "4   35.383089   0.516456             1.0       0.516726  \n",
       "5   35.379083   0.456069             1.0       0.455000  \n",
       "6   35.393690   0.433688             1.0       0.434093  \n",
       "7   35.387689   0.381864             1.0       0.381847  \n",
       "8   33.695115   2.620379             1.0       2.239416  \n",
       "9   33.720816   1.484140             1.0       1.457797  \n",
       "10  34.561011  20.291075             1.0      12.888421  "
      ]
     },
     "execution_count": 55,
     "metadata": {},
     "output_type": "execute_result"
    }
   ],
   "source": [
    "df_rail.head(11)"
   ]
  },
  {
   "cell_type": "code",
   "execution_count": 69,
   "metadata": {},
   "outputs": [
    {
     "data": {
      "text/plain": [
       "(array([  0., 100., 200., 300., 400., 500., 600., 700.]),\n",
       " <a list of 8 Text yticklabel objects>)"
      ]
     },
     "execution_count": 69,
     "metadata": {},
     "output_type": "execute_result"
    },
    {
     "data": {
      "image/png": "[encoded data removed]",
      "text/plain": [
       "<Figure size 1440x720 with 1 Axes>"
      ]
     },
     "metadata": {
      "needs_background": "light"
     },
     "output_type": "display_data"
    }
   ],
   "source": [
    "count, bin_edges = np.histogram(df_rail['new_Length_mi'], bins = 37 )\n",
    "\n",
    "\n",
    "df_rail[\"new_Length_mi\"].plot(kind = 'hist', xticks = bin_edges.round(1), bins = 37, figsize = (20,10))\n",
    "\n",
    "plt.title('Histogram of Railroad Segments', fontsize = 20)\n",
    "plt.ylabel('Number of Railroad Segment', fontsize = 20)\n",
    "plt.xlabel('Length of Railroad Segment', fontsize = 20)\n",
    "plt.xticks(fontsize = 12)\n",
    "plt.yticks(fontsize = 15)"
   ]
  },
  {
   "cell_type": "code",
   "execution_count": 47,
   "metadata": {},
   "outputs": [],
   "source": [
    "file_to_write1 = \"C:/Users/jkhat/OneDrive/MarTREC_python/Rail_consolidated_arcs_file_22.csv\"\n",
    "df_rail.to_csv(file_to_write1)"
   ]
  },
  {
   "cell_type": "markdown",
   "metadata": {},
   "source": [
    "# Road Segments"
   ]
  },
  {
   "cell_type": "code",
   "execution_count": 57,
   "metadata": {},
   "outputs": [],
   "source": [
    "file2 = \"C:/Users/jkhat/OneDrive/MarTREC_python/Road_consolidated_arcs_file_2.csv\"\n",
    "df_road = pd.read_csv(file2)"
   ]
  },
  {
   "cell_type": "code",
   "execution_count": 58,
   "metadata": {},
   "outputs": [
    {
     "name": "stdout",
     "output_type": "stream",
     "text": [
      "(4462, 10)\n"
     ]
    },
    {
     "data": {
      "text/html": [
       "<div>\n",
       "<style scoped>\n",
       "    .dataframe tbody tr th:only-of-type {\n",
       "        vertical-align: middle;\n",
       "    }\n",
       "\n",
       "    .dataframe tbody tr th {\n",
       "        vertical-align: top;\n",
       "    }\n",
       "\n",
       "    .dataframe thead th {\n",
       "        text-align: right;\n",
       "    }\n",
       "</style>\n",
       "<table border=\"1\" class=\"dataframe\">\n",
       "  <thead>\n",
       "    <tr style=\"text-align: right;\">\n",
       "      <th></th>\n",
       "      <th>FID</th>\n",
       "      <th>Start_Node</th>\n",
       "      <th>End_Node</th>\n",
       "      <th>Mode</th>\n",
       "      <th>X_Start</th>\n",
       "      <th>Y_Start</th>\n",
       "      <th>X_End</th>\n",
       "      <th>Y_End</th>\n",
       "      <th>Length_mi</th>\n",
       "      <th>Traversal time</th>\n",
       "    </tr>\n",
       "  </thead>\n",
       "  <tbody>\n",
       "    <tr>\n",
       "      <th>0</th>\n",
       "      <td>8592</td>\n",
       "      <td>7176</td>\n",
       "      <td>7469</td>\n",
       "      <td>Road</td>\n",
       "      <td>-94.575309</td>\n",
       "      <td>36.275895</td>\n",
       "      <td>-94.579129</td>\n",
       "      <td>36.384660</td>\n",
       "      <td>7.927775</td>\n",
       "      <td>1.0</td>\n",
       "    </tr>\n",
       "    <tr>\n",
       "      <th>1</th>\n",
       "      <td>8269</td>\n",
       "      <td>7176</td>\n",
       "      <td>7185</td>\n",
       "      <td>Road</td>\n",
       "      <td>-94.575309</td>\n",
       "      <td>36.275895</td>\n",
       "      <td>-94.582566</td>\n",
       "      <td>36.278307</td>\n",
       "      <td>0.438233</td>\n",
       "      <td>1.0</td>\n",
       "    </tr>\n",
       "    <tr>\n",
       "      <th>2</th>\n",
       "      <td>7876</td>\n",
       "      <td>6820</td>\n",
       "      <td>6836</td>\n",
       "      <td>Road</td>\n",
       "      <td>-94.541508</td>\n",
       "      <td>36.172397</td>\n",
       "      <td>-94.565201</td>\n",
       "      <td>36.176384</td>\n",
       "      <td>1.365337</td>\n",
       "      <td>1.0</td>\n",
       "    </tr>\n",
       "    <tr>\n",
       "      <th>3</th>\n",
       "      <td>7908</td>\n",
       "      <td>6820</td>\n",
       "      <td>6862</td>\n",
       "      <td>Road</td>\n",
       "      <td>-94.541508</td>\n",
       "      <td>36.172397</td>\n",
       "      <td>-94.541441</td>\n",
       "      <td>36.183282</td>\n",
       "      <td>0.750984</td>\n",
       "      <td>1.0</td>\n",
       "    </tr>\n",
       "    <tr>\n",
       "      <th>4</th>\n",
       "      <td>7857</td>\n",
       "      <td>6820</td>\n",
       "      <td>6821</td>\n",
       "      <td>Road</td>\n",
       "      <td>-94.541508</td>\n",
       "      <td>36.172397</td>\n",
       "      <td>-94.534347</td>\n",
       "      <td>36.172320</td>\n",
       "      <td>0.400583</td>\n",
       "      <td>1.0</td>\n",
       "    </tr>\n",
       "  </tbody>\n",
       "</table>\n",
       "</div>"
      ],
      "text/plain": [
       "    FID  Start_Node  End_Node  Mode    X_Start    Y_Start      X_End  \\\n",
       "0  8592        7176      7469  Road -94.575309  36.275895 -94.579129   \n",
       "1  8269        7176      7185  Road -94.575309  36.275895 -94.582566   \n",
       "2  7876        6820      6836  Road -94.541508  36.172397 -94.565201   \n",
       "3  7908        6820      6862  Road -94.541508  36.172397 -94.541441   \n",
       "4  7857        6820      6821  Road -94.541508  36.172397 -94.534347   \n",
       "\n",
       "       Y_End  Length_mi  Traversal time  \n",
       "0  36.384660   7.927775             1.0  \n",
       "1  36.278307   0.438233             1.0  \n",
       "2  36.176384   1.365337             1.0  \n",
       "3  36.183282   0.750984             1.0  \n",
       "4  36.172320   0.400583             1.0  "
      ]
     },
     "execution_count": 58,
     "metadata": {},
     "output_type": "execute_result"
    }
   ],
   "source": [
    "print(df_road.shape)\n",
    "df_road.head()"
   ]
  },
  {
   "cell_type": "code",
   "execution_count": 59,
   "metadata": {},
   "outputs": [],
   "source": [
    "for index, row in df_road.iterrows():\n",
    "    lat1 = row['Y_Start']\n",
    "    lat2 = row['Y_End']\n",
    "    lon1 = row['X_Start']\n",
    "    lon2 = row['X_End']\n",
    "    distance_mile = distance(lat1, lat2, lon1, lon2)\n",
    "    df_road.at[index, 'new_Length_mi'] = distance_mile"
   ]
  },
  {
   "cell_type": "code",
   "execution_count": 63,
   "metadata": {},
   "outputs": [
    {
     "data": {
      "text/html": [
       "<div>\n",
       "<style scoped>\n",
       "    .dataframe tbody tr th:only-of-type {\n",
       "        vertical-align: middle;\n",
       "    }\n",
       "\n",
       "    .dataframe tbody tr th {\n",
       "        vertical-align: top;\n",
       "    }\n",
       "\n",
       "    .dataframe thead th {\n",
       "        text-align: right;\n",
       "    }\n",
       "</style>\n",
       "<table border=\"1\" class=\"dataframe\">\n",
       "  <thead>\n",
       "    <tr style=\"text-align: right;\">\n",
       "      <th></th>\n",
       "      <th>FID</th>\n",
       "      <th>Start_Node</th>\n",
       "      <th>End_Node</th>\n",
       "      <th>Mode</th>\n",
       "      <th>X_Start</th>\n",
       "      <th>Y_Start</th>\n",
       "      <th>X_End</th>\n",
       "      <th>Y_End</th>\n",
       "      <th>Length_mi</th>\n",
       "      <th>Traversal time</th>\n",
       "      <th>new_Length_mi</th>\n",
       "    </tr>\n",
       "  </thead>\n",
       "  <tbody>\n",
       "    <tr>\n",
       "      <th>0</th>\n",
       "      <td>8592</td>\n",
       "      <td>7176</td>\n",
       "      <td>7469</td>\n",
       "      <td>Road</td>\n",
       "      <td>-94.575309</td>\n",
       "      <td>36.275895</td>\n",
       "      <td>-94.579129</td>\n",
       "      <td>36.384660</td>\n",
       "      <td>7.927775</td>\n",
       "      <td>1.0</td>\n",
       "      <td>7.512677</td>\n",
       "    </tr>\n",
       "    <tr>\n",
       "      <th>1</th>\n",
       "      <td>8269</td>\n",
       "      <td>7176</td>\n",
       "      <td>7185</td>\n",
       "      <td>Road</td>\n",
       "      <td>-94.575309</td>\n",
       "      <td>36.275895</td>\n",
       "      <td>-94.582566</td>\n",
       "      <td>36.278307</td>\n",
       "      <td>0.438233</td>\n",
       "      <td>1.0</td>\n",
       "      <td>0.436901</td>\n",
       "    </tr>\n",
       "    <tr>\n",
       "      <th>2</th>\n",
       "      <td>7876</td>\n",
       "      <td>6820</td>\n",
       "      <td>6836</td>\n",
       "      <td>Road</td>\n",
       "      <td>-94.541508</td>\n",
       "      <td>36.172397</td>\n",
       "      <td>-94.565201</td>\n",
       "      <td>36.176384</td>\n",
       "      <td>1.365337</td>\n",
       "      <td>1.0</td>\n",
       "      <td>1.348943</td>\n",
       "    </tr>\n",
       "    <tr>\n",
       "      <th>3</th>\n",
       "      <td>7908</td>\n",
       "      <td>6820</td>\n",
       "      <td>6862</td>\n",
       "      <td>Road</td>\n",
       "      <td>-94.541508</td>\n",
       "      <td>36.172397</td>\n",
       "      <td>-94.541441</td>\n",
       "      <td>36.183282</td>\n",
       "      <td>0.750984</td>\n",
       "      <td>1.0</td>\n",
       "      <td>0.751537</td>\n",
       "    </tr>\n",
       "    <tr>\n",
       "      <th>4</th>\n",
       "      <td>7857</td>\n",
       "      <td>6820</td>\n",
       "      <td>6821</td>\n",
       "      <td>Road</td>\n",
       "      <td>-94.541508</td>\n",
       "      <td>36.172397</td>\n",
       "      <td>-94.534347</td>\n",
       "      <td>36.172320</td>\n",
       "      <td>0.400583</td>\n",
       "      <td>1.0</td>\n",
       "      <td>0.399144</td>\n",
       "    </tr>\n",
       "  </tbody>\n",
       "</table>\n",
       "</div>"
      ],
      "text/plain": [
       "    FID  Start_Node  End_Node  Mode    X_Start    Y_Start      X_End  \\\n",
       "0  8592        7176      7469  Road -94.575309  36.275895 -94.579129   \n",
       "1  8269        7176      7185  Road -94.575309  36.275895 -94.582566   \n",
       "2  7876        6820      6836  Road -94.541508  36.172397 -94.565201   \n",
       "3  7908        6820      6862  Road -94.541508  36.172397 -94.541441   \n",
       "4  7857        6820      6821  Road -94.541508  36.172397 -94.534347   \n",
       "\n",
       "       Y_End  Length_mi  Traversal time  new_Length_mi  \n",
       "0  36.384660   7.927775             1.0       7.512677  \n",
       "1  36.278307   0.438233             1.0       0.436901  \n",
       "2  36.176384   1.365337             1.0       1.348943  \n",
       "3  36.183282   0.750984             1.0       0.751537  \n",
       "4  36.172320   0.400583             1.0       0.399144  "
      ]
     },
     "execution_count": 63,
     "metadata": {},
     "output_type": "execute_result"
    }
   ],
   "source": [
    "df_road.head()"
   ]
  },
  {
   "cell_type": "code",
   "execution_count": 65,
   "metadata": {},
   "outputs": [
    {
     "data": {
      "text/plain": [
       "(array([   0.,  200.,  400.,  600.,  800., 1000., 1200., 1400., 1600.]),\n",
       " <a list of 9 Text yticklabel objects>)"
      ]
     },
     "execution_count": 65,
     "metadata": {},
     "output_type": "execute_result"
    },
    {
     "data": {
      "image/png": "[encoded data removed]",
      "text/plain": [
       "<Figure size 1440x720 with 1 Axes>"
      ]
     },
     "metadata": {
      "needs_background": "light"
     },
     "output_type": "display_data"
    }
   ],
   "source": [
    "count, bin_edges = np.histogram(df_road['new_Length_mi'], bins = 30 )\n",
    "\n",
    "df_road[\"new_Length_mi\"].plot(kind = 'hist', xticks = bin_edges.round(1), bins = 30, figsize = (20,10))\n",
    "\n",
    "plt.title('Histogram of Road Segments', fontsize = 20)\n",
    "plt.ylabel('Number of Road Segment', fontsize = 20)\n",
    "plt.xlabel('Length of Road Segment', fontsize = 20)\n",
    "plt.xticks(fontsize = 12)\n",
    "plt.yticks(fontsize = 15)"
   ]
  },
  {
   "cell_type": "code",
   "execution_count": 64,
   "metadata": {},
   "outputs": [],
   "source": [
    "file_to_write2 = \"C:/Users/jkhat/OneDrive/MarTREC_python/Road_consolidated_arcs_file_22.csv\"\n",
    "df_road.to_csv(file_to_write2)"
   ]
  },
  {
   "cell_type": "markdown",
   "metadata": {},
   "source": [
    "# Water Segments"
   ]
  },
  {
   "cell_type": "code",
   "execution_count": 71,
   "metadata": {},
   "outputs": [],
   "source": [
    "file3 = \"C:/Users/jkhat/OneDrive/MarTREC_python/Water_consolidated_arcs_file_2.csv\"\n",
    "df_water = pd.read_csv(file3)"
   ]
  },
  {
   "cell_type": "code",
   "execution_count": 72,
   "metadata": {},
   "outputs": [
    {
     "name": "stdout",
     "output_type": "stream",
     "text": [
      "(152, 10)\n"
     ]
    },
    {
     "data": {
      "text/html": [
       "<div>\n",
       "<style scoped>\n",
       "    .dataframe tbody tr th:only-of-type {\n",
       "        vertical-align: middle;\n",
       "    }\n",
       "\n",
       "    .dataframe tbody tr th {\n",
       "        vertical-align: top;\n",
       "    }\n",
       "\n",
       "    .dataframe thead th {\n",
       "        text-align: right;\n",
       "    }\n",
       "</style>\n",
       "<table border=\"1\" class=\"dataframe\">\n",
       "  <thead>\n",
       "    <tr style=\"text-align: right;\">\n",
       "      <th></th>\n",
       "      <th>FID</th>\n",
       "      <th>Start_Node</th>\n",
       "      <th>End_Node</th>\n",
       "      <th>Mode</th>\n",
       "      <th>X_Start</th>\n",
       "      <th>Y_Start</th>\n",
       "      <th>X_End</th>\n",
       "      <th>Y_End</th>\n",
       "      <th>Length_mi</th>\n",
       "      <th>Traversal time</th>\n",
       "    </tr>\n",
       "  </thead>\n",
       "  <tbody>\n",
       "    <tr>\n",
       "      <th>0</th>\n",
       "      <td>3</td>\n",
       "      <td>40004</td>\n",
       "      <td>40003</td>\n",
       "      <td>Water</td>\n",
       "      <td>-94.451303</td>\n",
       "      <td>35.338564</td>\n",
       "      <td>-94.433824</td>\n",
       "      <td>35.388340</td>\n",
       "      <td>4.091127</td>\n",
       "      <td>1.0</td>\n",
       "    </tr>\n",
       "    <tr>\n",
       "      <th>1</th>\n",
       "      <td>4</td>\n",
       "      <td>40005</td>\n",
       "      <td>40006</td>\n",
       "      <td>Water</td>\n",
       "      <td>-90.172327</td>\n",
       "      <td>35.052754</td>\n",
       "      <td>-90.177934</td>\n",
       "      <td>35.075144</td>\n",
       "      <td>1.794213</td>\n",
       "      <td>1.0</td>\n",
       "    </tr>\n",
       "    <tr>\n",
       "      <th>2</th>\n",
       "      <td>5</td>\n",
       "      <td>40007</td>\n",
       "      <td>40006</td>\n",
       "      <td>Water</td>\n",
       "      <td>-90.083384</td>\n",
       "      <td>35.106164</td>\n",
       "      <td>-90.177934</td>\n",
       "      <td>35.075144</td>\n",
       "      <td>6.784474</td>\n",
       "      <td>1.0</td>\n",
       "    </tr>\n",
       "    <tr>\n",
       "      <th>3</th>\n",
       "      <td>6</td>\n",
       "      <td>40008</td>\n",
       "      <td>40006</td>\n",
       "      <td>Water</td>\n",
       "      <td>-90.061974</td>\n",
       "      <td>35.181764</td>\n",
       "      <td>-90.177934</td>\n",
       "      <td>35.075144</td>\n",
       "      <td>12.978118</td>\n",
       "      <td>1.0</td>\n",
       "    </tr>\n",
       "    <tr>\n",
       "      <th>4</th>\n",
       "      <td>7</td>\n",
       "      <td>40009</td>\n",
       "      <td>40008</td>\n",
       "      <td>Water</td>\n",
       "      <td>-89.890292</td>\n",
       "      <td>35.164161</td>\n",
       "      <td>-90.061974</td>\n",
       "      <td>35.181764</td>\n",
       "      <td>13.380287</td>\n",
       "      <td>1.0</td>\n",
       "    </tr>\n",
       "  </tbody>\n",
       "</table>\n",
       "</div>"
      ],
      "text/plain": [
       "  FID  Start_Node  End_Node   Mode    X_Start    Y_Start      X_End  \\\n",
       "0   3       40004     40003  Water -94.451303  35.338564 -94.433824   \n",
       "1   4       40005     40006  Water -90.172327  35.052754 -90.177934   \n",
       "2   5       40007     40006  Water -90.083384  35.106164 -90.177934   \n",
       "3   6       40008     40006  Water -90.061974  35.181764 -90.177934   \n",
       "4   7       40009     40008  Water -89.890292  35.164161 -90.061974   \n",
       "\n",
       "       Y_End  Length_mi  Traversal time  \n",
       "0  35.388340   4.091127             1.0  \n",
       "1  35.075144   1.794213             1.0  \n",
       "2  35.075144   6.784474             1.0  \n",
       "3  35.075144  12.978118             1.0  \n",
       "4  35.181764  13.380287             1.0  "
      ]
     },
     "execution_count": 72,
     "metadata": {},
     "output_type": "execute_result"
    }
   ],
   "source": [
    "print(df_water.shape)\n",
    "df_water.head()"
   ]
  },
  {
   "cell_type": "code",
   "execution_count": 73,
   "metadata": {},
   "outputs": [],
   "source": [
    "for index, row in df_water.iterrows():\n",
    "    lat1 = row['Y_Start']\n",
    "    lat2 = row['Y_End']\n",
    "    lon1 = row['X_Start']\n",
    "    lon2 = row['X_End']\n",
    "    distance_mile = distance(lat1, lat2, lon1, lon2)\n",
    "    df_water.at[index, 'new_Length_mi'] = distance_mile"
   ]
  },
  {
   "cell_type": "code",
   "execution_count": 74,
   "metadata": {},
   "outputs": [
    {
     "data": {
      "text/html": [
       "<div>\n",
       "<style scoped>\n",
       "    .dataframe tbody tr th:only-of-type {\n",
       "        vertical-align: middle;\n",
       "    }\n",
       "\n",
       "    .dataframe tbody tr th {\n",
       "        vertical-align: top;\n",
       "    }\n",
       "\n",
       "    .dataframe thead th {\n",
       "        text-align: right;\n",
       "    }\n",
       "</style>\n",
       "<table border=\"1\" class=\"dataframe\">\n",
       "  <thead>\n",
       "    <tr style=\"text-align: right;\">\n",
       "      <th></th>\n",
       "      <th>FID</th>\n",
       "      <th>Start_Node</th>\n",
       "      <th>End_Node</th>\n",
       "      <th>Mode</th>\n",
       "      <th>X_Start</th>\n",
       "      <th>Y_Start</th>\n",
       "      <th>X_End</th>\n",
       "      <th>Y_End</th>\n",
       "      <th>Length_mi</th>\n",
       "      <th>Traversal time</th>\n",
       "      <th>new_Length_mi</th>\n",
       "    </tr>\n",
       "  </thead>\n",
       "  <tbody>\n",
       "    <tr>\n",
       "      <th>0</th>\n",
       "      <td>3</td>\n",
       "      <td>40004</td>\n",
       "      <td>40003</td>\n",
       "      <td>Water</td>\n",
       "      <td>-94.451303</td>\n",
       "      <td>35.338564</td>\n",
       "      <td>-94.433824</td>\n",
       "      <td>35.388340</td>\n",
       "      <td>4.091127</td>\n",
       "      <td>1.0</td>\n",
       "      <td>3.574935</td>\n",
       "    </tr>\n",
       "    <tr>\n",
       "      <th>1</th>\n",
       "      <td>4</td>\n",
       "      <td>40005</td>\n",
       "      <td>40006</td>\n",
       "      <td>Water</td>\n",
       "      <td>-90.172327</td>\n",
       "      <td>35.052754</td>\n",
       "      <td>-90.177934</td>\n",
       "      <td>35.075144</td>\n",
       "      <td>1.794213</td>\n",
       "      <td>1.0</td>\n",
       "      <td>1.578064</td>\n",
       "    </tr>\n",
       "    <tr>\n",
       "      <th>2</th>\n",
       "      <td>5</td>\n",
       "      <td>40007</td>\n",
       "      <td>40006</td>\n",
       "      <td>Water</td>\n",
       "      <td>-90.083384</td>\n",
       "      <td>35.106164</td>\n",
       "      <td>-90.177934</td>\n",
       "      <td>35.075144</td>\n",
       "      <td>6.784474</td>\n",
       "      <td>1.0</td>\n",
       "      <td>5.755063</td>\n",
       "    </tr>\n",
       "    <tr>\n",
       "      <th>3</th>\n",
       "      <td>6</td>\n",
       "      <td>40008</td>\n",
       "      <td>40006</td>\n",
       "      <td>Water</td>\n",
       "      <td>-90.061974</td>\n",
       "      <td>35.181764</td>\n",
       "      <td>-90.177934</td>\n",
       "      <td>35.075144</td>\n",
       "      <td>12.978118</td>\n",
       "      <td>1.0</td>\n",
       "      <td>9.852524</td>\n",
       "    </tr>\n",
       "    <tr>\n",
       "      <th>4</th>\n",
       "      <td>7</td>\n",
       "      <td>40009</td>\n",
       "      <td>40008</td>\n",
       "      <td>Water</td>\n",
       "      <td>-89.890292</td>\n",
       "      <td>35.164161</td>\n",
       "      <td>-90.061974</td>\n",
       "      <td>35.181764</td>\n",
       "      <td>13.380287</td>\n",
       "      <td>1.0</td>\n",
       "      <td>9.765442</td>\n",
       "    </tr>\n",
       "  </tbody>\n",
       "</table>\n",
       "</div>"
      ],
      "text/plain": [
       "  FID  Start_Node  End_Node   Mode    X_Start    Y_Start      X_End  \\\n",
       "0   3       40004     40003  Water -94.451303  35.338564 -94.433824   \n",
       "1   4       40005     40006  Water -90.172327  35.052754 -90.177934   \n",
       "2   5       40007     40006  Water -90.083384  35.106164 -90.177934   \n",
       "3   6       40008     40006  Water -90.061974  35.181764 -90.177934   \n",
       "4   7       40009     40008  Water -89.890292  35.164161 -90.061974   \n",
       "\n",
       "       Y_End  Length_mi  Traversal time  new_Length_mi  \n",
       "0  35.388340   4.091127             1.0       3.574935  \n",
       "1  35.075144   1.794213             1.0       1.578064  \n",
       "2  35.075144   6.784474             1.0       5.755063  \n",
       "3  35.075144  12.978118             1.0       9.852524  \n",
       "4  35.181764  13.380287             1.0       9.765442  "
      ]
     },
     "execution_count": 74,
     "metadata": {},
     "output_type": "execute_result"
    }
   ],
   "source": [
    "df_water.head()"
   ]
  },
  {
   "cell_type": "code",
   "execution_count": 81,
   "metadata": {},
   "outputs": [
    {
     "data": {
      "text/plain": [
       "(array([ 0., 10., 20., 30., 40., 50., 60., 70., 80.]),\n",
       " <a list of 9 Text yticklabel objects>)"
      ]
     },
     "execution_count": 81,
     "metadata": {},
     "output_type": "execute_result"
    },
    {
     "data": {
      "image/png": "[encoded data removed]",
      "text/plain": [
       "<Figure size 1440x720 with 1 Axes>"
      ]
     },
     "metadata": {
      "needs_background": "light"
     },
     "output_type": "display_data"
    }
   ],
   "source": [
    "count, bin_edges = np.histogram(df_water['new_Length_mi'], bins = 30 )\n",
    "\n",
    "df_water[\"new_Length_mi\"].plot(kind = 'hist', xticks = bin_edges.round(1), bins = 30, figsize = (20,10))\n",
    "\n",
    "plt.title('Histogram of Water Segments', fontsize = 20)\n",
    "plt.ylabel('Number of Water Segment', fontsize = 20)\n",
    "plt.xlabel('Length of Water Segment', fontsize = 20)\n",
    "plt.xticks(fontsize = 12)\n",
    "plt.yticks(fontsize = 15)"
   ]
  },
  {
   "cell_type": "code",
   "execution_count": 78,
   "metadata": {},
   "outputs": [],
   "source": [
    "file_to_write3 = \"C:/Users/jkhat/OneDrive/MarTREC_python/Water_consolidated_arcs_file_22.csv\"\n",
    "df_water.to_csv(file_to_write3)"
   ]
  },
  {
   "cell_type": "markdown",
   "metadata": {},
   "source": [
    "### Road speed limits in Arkansas https://en.wikipedia.org/wiki/Speed_limits_in_the_United_States_by_jurisdiction#Arkansas\n",
    "\n",
    "### and https://www.arkansashighways.com/Trans_Plan_Policy/2017%20Speed%20Limit%20Study%20FINAL.pdf"
   ]
  },
  {
   "cell_type": "code",
   "execution_count": null,
   "metadata": {},
   "outputs": [],
   "source": []
  },
  {
   "cell_type": "markdown",
   "metadata": {},
   "source": [
    "### Train speed limits in Arkansas https://en.wikipedia.org/wiki/Rail_speed_limits_in_the_United_States\n",
    "\n",
    "### and https://www.arkansashighways.com/Trans_Plan_Policy/state_rail/AR_StateRailPlan_Final_with_Summary.pdf\n",
    "### (search for track class)"
   ]
  },
  {
   "cell_type": "raw",
   "metadata": {},
   "source": []
  },
  {
   "cell_type": "markdown",
   "metadata": {},
   "source": [
    "### https://www.voanews.com/usa/fast-moving-world-slow-going-barges-ply-us-waterways#:~:text=s%20inland%20rivers.,%5B6%20miles%5D%20an%20hour.\n",
    "\n",
    "### https://www.globalsecurity.org/military/systems/ship/towboat.htm#:~:text=Usually%20barge%20configuration%20on%20the,mph%20to%20about%2011%20mph. (speed) \n",
    "\n",
    "### https://en.wikipedia.org/wiki/MV_Mississippi ( barge and speed)"
   ]
  },
  {
   "cell_type": "code",
   "execution_count": 3,
   "metadata": {},
   "outputs": [
    {
     "name": "stdout",
     "output_type": "stream",
     "text": [
      "1.2445894158220852 K.M\n"
     ]
    }
   ],
   "source": []
  },
  {
   "cell_type": "code",
   "execution_count": 6,
   "metadata": {},
   "outputs": [
    {
     "name": "stdout",
     "output_type": "stream",
     "text": [
      "1.1062162322844902 M\n"
     ]
    }
   ],
   "source": [
    "# arc 591  \n",
    "lat1 = 34.03469171\n",
    "\n",
    "lat2 = 34.03854101\n",
    "\n",
    "lon1 = -94.64902354\n",
    "\n",
    "lon2 =  -94.63025594\n",
    "\n",
    "print(distance(lat1, lat2, lon1, lon2), \"miles\") "
   ]
  },
  {
   "cell_type": "code",
   "execution_count": 7,
   "metadata": {},
   "outputs": [
    {
     "name": "stdout",
     "output_type": "stream",
     "text": [
      "14.728115706222084 M\n"
     ]
    }
   ],
   "source": [
    "# from 30676 to 30765   \n",
    "lat1 = 34.38270932\n",
    "\n",
    "lat2 = 34.55541102\n",
    "\n",
    "lon1 = -92.72716909\n",
    "\n",
    "lon2 =  -92.57530328\n",
    "\n",
    "print(distance(lat1, lat2, lon1, lon2), \"miles\") "
   ]
  },
  {
   "cell_type": "code",
   "execution_count": 8,
   "metadata": {},
   "outputs": [
    {
     "name": "stdout",
     "output_type": "stream",
     "text": [
      "0.35679090759804355 M\n"
     ]
    }
   ],
   "source": [
    "# arc 692\n",
    "lat1 = 34.34201201\n",
    "\n",
    "lat2 = 34.34186801\n",
    "\n",
    "lon1 = -94.36993627\n",
    "\n",
    "lon2 =  -94.36368027\n",
    "\n",
    "print(distance(lat1, lat2, lon1, lon2), \"miles\") "
   ]
  },
  {
   "cell_type": "code",
   "execution_count": 9,
   "metadata": {},
   "outputs": [
    {
     "name": "stdout",
     "output_type": "stream",
     "text": [
      "20.727180412628645 miles\n"
     ]
    }
   ],
   "source": [
    "# arc from 31458 to 70350\n",
    "lat1 = 36.12531504\n",
    "\n",
    "lat2 = 36.17266582\n",
    "\n",
    "lon1 = -94.16747678\n",
    "\n",
    "lon2 =  -94.53459093\n",
    "\n",
    "print(distance(lat1, lat2, lon1, lon2), \"miles\") "
   ]
  }
 ],
 "metadata": {
  "kernelspec": {
   "display_name": "Python 3",
   "language": "python",
   "name": "python3"
  },
  "language_info": {
   "codemirror_mode": {
    "name": "ipython",
    "version": 3
   },
   "file_extension": ".py",
   "mimetype": "text/x-python",
   "name": "python",
   "nbconvert_exporter": "python",
   "pygments_lexer": "ipython3",
   "version": "3.7.6"
  }
 },
 "nbformat": 4,
 "nbformat_minor": 4
}
